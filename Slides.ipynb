{
 "cells": [
  {
   "cell_type": "code",
   "execution_count": 12,
   "metadata": {
    "ExecuteTime": {
     "end_time": "2020-10-08T03:57:13.701201Z",
     "start_time": "2020-10-08T03:57:10.583189Z"
    },
    "slideshow": {
     "slide_type": "notes"
    }
   },
   "outputs": [],
   "source": [
    "import pandas as pd\n",
    "import numpy as np\n",
    "import matplotlib.pyplot as plt\n",
    "import itertools\n",
    "import seaborn as sns\n",
    "sns.set(style=\"ticks\")\n",
    "plt.style.use('seaborn-whitegrid')\n",
    "\n",
    "rules = pd.read_pickle('final_dataset.pkl')\n",
    "data = pd.read_csv('ga_dump_for_lhl.csv', sep = ';')\n",
    "insights = pd.read_csv('final_insights.csv')"
   ]
  },
  {
   "cell_type": "code",
   "execution_count": 22,
   "metadata": {
    "ExecuteTime": {
     "end_time": "2020-10-08T04:07:48.452019Z",
     "start_time": "2020-10-08T04:07:48.432058Z"
    },
    "slideshow": {
     "slide_type": "notes"
    }
   },
   "outputs": [],
   "source": [
    "insights.drop('Unnamed: 0', axis = 1, inplace = True)"
   ]
  },
  {
   "cell_type": "markdown",
   "metadata": {
    "ExecuteTime": {
     "end_time": "2020-10-07T06:38:57.597808Z",
     "start_time": "2020-10-07T06:38:57.580331Z"
    },
    "slideshow": {
     "slide_type": "slide"
    }
   },
   "source": [
    "# **Deriving Business Insights Using Google Analytics Data**\n",
    "\n",
    "### Analyzing client data to derive insights from customer behaviour and identify areas of improvement using data science techniques\n",
    "### Presented by: Safwaan Hassan\n",
    "\n",
    " "
   ]
  },
  {
   "cell_type": "markdown",
   "metadata": {
    "ExecuteTime": {
     "end_time": "2020-10-07T06:40:45.152604Z",
     "start_time": "2020-10-07T06:40:45.127190Z"
    },
    "slideshow": {
     "slide_type": "slide"
    }
   },
   "source": [
    "## Introduction to Business Problem\n",
    "\n",
    "## Client\n",
    "* Large sportswear retail website based out of Germany\n",
    "\n",
    "## Data\n",
    "* Provided Google Analytics data containing information on a user session level\n",
    "    * Data contained information on how a user navigated the website and what products they viewed/purchased in a given session"
   ]
  },
  {
   "cell_type": "markdown",
   "metadata": {
    "slideshow": {
     "slide_type": "slide"
    }
   },
   "source": [
    "## Overview of the Provided Dataset\n",
    "Note - This is a cleaned version of the raw dataset provided"
   ]
  },
  {
   "cell_type": "code",
   "execution_count": 13,
   "metadata": {
    "ExecuteTime": {
     "end_time": "2020-10-08T03:57:24.770866Z",
     "start_time": "2020-10-08T03:57:19.194225Z"
    },
    "slideshow": {
     "slide_type": "notes"
    }
   },
   "outputs": [],
   "source": [
    "cols = data.columns.tolist()\n",
    "clean_cols = [col.strip('ga:') for col in cols]\n",
    "data.columns = clean_cols\n",
    "\n",
    "def drop_cols(col):\n",
    "  drop_cols = []\n",
    "  for i in col:\n",
    "    if len(data[i].value_counts()) == 1:\n",
    "      drop_cols.append(i)\n",
    "  \n",
    "  return drop_cols\n",
    "\n",
    "cols_to_drop = drop_cols(data.columns)\n",
    "data.drop(cols_to_drop, axis = 1, inplace = True)\n",
    "\n",
    "data['productName'] = data['productName'].str.lstrip()\n",
    "data['productName'] = data['productName'].str.replace(\"  \", \" \")\n",
    "\n",
    "dateHourMinute = pd.to_datetime(data.dateHourMinute.values, format = \"%Y%m%d%H%M\").tolist()\n",
    "data['dateHourMinute'] = dateHourMinute\n",
    "\n",
    "data.rename(columns={'dimension3': 'sessionID'}, inplace = True)"
   ]
  },
  {
   "cell_type": "code",
   "execution_count": 14,
   "metadata": {
    "ExecuteTime": {
     "end_time": "2020-10-08T03:57:24.817330Z",
     "start_time": "2020-10-08T03:57:24.772870Z"
    },
    "slideshow": {
     "slide_type": "-"
    }
   },
   "outputs": [
    {
     "data": {
      "text/html": [
       "<div>\n",
       "<style scoped>\n",
       "    .dataframe tbody tr th:only-of-type {\n",
       "        vertical-align: middle;\n",
       "    }\n",
       "\n",
       "    .dataframe tbody tr th {\n",
       "        vertical-align: top;\n",
       "    }\n",
       "\n",
       "    .dataframe thead th {\n",
       "        text-align: right;\n",
       "    }\n",
       "</style>\n",
       "<table border=\"1\" class=\"dataframe\">\n",
       "  <thead>\n",
       "    <tr style=\"text-align: right;\">\n",
       "      <th></th>\n",
       "      <th>pagePath</th>\n",
       "      <th>previousPagePath</th>\n",
       "      <th>landingPagePath</th>\n",
       "      <th>exitPagePath</th>\n",
       "      <th>dateHourMinute</th>\n",
       "      <th>sessionID</th>\n",
       "      <th>productName</th>\n",
       "      <th>productDetailViews</th>\n",
       "      <th>productListViews</th>\n",
       "      <th>itemRevenue</th>\n",
       "      <th>productListClicks</th>\n",
       "    </tr>\n",
       "  </thead>\n",
       "  <tbody>\n",
       "    <tr>\n",
       "      <th>0</th>\n",
       "      <td>/</td>\n",
       "      <td>(entrance)</td>\n",
       "      <td>/order/succes?oid=2000075871&amp;paymentId=PAYID-L...</td>\n",
       "      <td>/order/succes?oid=2000075871&amp;paymentId=PAYID-L...</td>\n",
       "      <td>2020-04-03 16:51:00</td>\n",
       "      <td>1585925484894.5r1t58lo</td>\n",
       "      <td>Laufschuhe Nike W EPIC REACT FLYKNIT 2</td>\n",
       "      <td>0</td>\n",
       "      <td>0</td>\n",
       "      <td>122.201307</td>\n",
       "      <td>0</td>\n",
       "    </tr>\n",
       "    <tr>\n",
       "      <th>1</th>\n",
       "      <td>/</td>\n",
       "      <td>(entrance)</td>\n",
       "      <td>/order/succes?oid=2000083281&amp;paymentId=PAYID-L...</td>\n",
       "      <td>/c/ausverkauf-schuhe/gender-1</td>\n",
       "      <td>2020-04-13 00:03:00</td>\n",
       "      <td>1586729138631.ir91604q</td>\n",
       "      <td>Schuhe Nike AIR MAX LTD 3</td>\n",
       "      <td>0</td>\n",
       "      <td>0</td>\n",
       "      <td>146.668754</td>\n",
       "      <td>0</td>\n",
       "    </tr>\n",
       "    <tr>\n",
       "      <th>2</th>\n",
       "      <td>/</td>\n",
       "      <td>(entrance)</td>\n",
       "      <td>/order/succes?oid=2000083481&amp;paymentId=PAYID-L...</td>\n",
       "      <td>/user/orderdetail/2000083481</td>\n",
       "      <td>2020-04-13 11:41:00</td>\n",
       "      <td>1586770910477.5blqswhq</td>\n",
       "      <td>Hose Nike W NK SPEED TGHT 7_8 MATTE</td>\n",
       "      <td>0</td>\n",
       "      <td>0</td>\n",
       "      <td>74.625715</td>\n",
       "      <td>0</td>\n",
       "    </tr>\n",
       "    <tr>\n",
       "      <th>3</th>\n",
       "      <td>/</td>\n",
       "      <td>(entrance)</td>\n",
       "      <td>/order/succes?oid=2000083481&amp;paymentId=PAYID-L...</td>\n",
       "      <td>/user/orderdetail/2000083481</td>\n",
       "      <td>2020-04-13 11:41:00</td>\n",
       "      <td>1586770910477.5blqswhq</td>\n",
       "      <td>Kapuzenjacke Nike W NSW WR JKT</td>\n",
       "      <td>0</td>\n",
       "      <td>0</td>\n",
       "      <td>75.985017</td>\n",
       "      <td>0</td>\n",
       "    </tr>\n",
       "    <tr>\n",
       "      <th>4</th>\n",
       "      <td>/</td>\n",
       "      <td>(entrance)</td>\n",
       "      <td>/order/succes?oid=2000083481&amp;paymentId=PAYID-L...</td>\n",
       "      <td>/user/orderdetail/2000083481</td>\n",
       "      <td>2020-04-13 11:41:00</td>\n",
       "      <td>1586770910477.5blqswhq</td>\n",
       "      <td>Langarm-T-Shirt Nike W NK MIDLAYER QZ SWSH RUN</td>\n",
       "      <td>0</td>\n",
       "      <td>0</td>\n",
       "      <td>46.080359</td>\n",
       "      <td>0</td>\n",
       "    </tr>\n",
       "  </tbody>\n",
       "</table>\n",
       "</div>"
      ],
      "text/plain": [
       "  pagePath previousPagePath  \\\n",
       "0        /       (entrance)   \n",
       "1        /       (entrance)   \n",
       "2        /       (entrance)   \n",
       "3        /       (entrance)   \n",
       "4        /       (entrance)   \n",
       "\n",
       "                                     landingPagePath  \\\n",
       "0  /order/succes?oid=2000075871&paymentId=PAYID-L...   \n",
       "1  /order/succes?oid=2000083281&paymentId=PAYID-L...   \n",
       "2  /order/succes?oid=2000083481&paymentId=PAYID-L...   \n",
       "3  /order/succes?oid=2000083481&paymentId=PAYID-L...   \n",
       "4  /order/succes?oid=2000083481&paymentId=PAYID-L...   \n",
       "\n",
       "                                        exitPagePath      dateHourMinute  \\\n",
       "0  /order/succes?oid=2000075871&paymentId=PAYID-L... 2020-04-03 16:51:00   \n",
       "1                      /c/ausverkauf-schuhe/gender-1 2020-04-13 00:03:00   \n",
       "2                       /user/orderdetail/2000083481 2020-04-13 11:41:00   \n",
       "3                       /user/orderdetail/2000083481 2020-04-13 11:41:00   \n",
       "4                       /user/orderdetail/2000083481 2020-04-13 11:41:00   \n",
       "\n",
       "                sessionID                                     productName  \\\n",
       "0  1585925484894.5r1t58lo          Laufschuhe Nike W EPIC REACT FLYKNIT 2   \n",
       "1  1586729138631.ir91604q                       Schuhe Nike AIR MAX LTD 3   \n",
       "2  1586770910477.5blqswhq             Hose Nike W NK SPEED TGHT 7_8 MATTE   \n",
       "3  1586770910477.5blqswhq                  Kapuzenjacke Nike W NSW WR JKT   \n",
       "4  1586770910477.5blqswhq  Langarm-T-Shirt Nike W NK MIDLAYER QZ SWSH RUN   \n",
       "\n",
       "   productDetailViews  productListViews  itemRevenue  productListClicks  \n",
       "0                   0                 0   122.201307                  0  \n",
       "1                   0                 0   146.668754                  0  \n",
       "2                   0                 0    74.625715                  0  \n",
       "3                   0                 0    75.985017                  0  \n",
       "4                   0                 0    46.080359                  0  "
      ]
     },
     "execution_count": 14,
     "metadata": {},
     "output_type": "execute_result"
    }
   ],
   "source": [
    "data.head()"
   ]
  },
  {
   "cell_type": "code",
   "execution_count": 15,
   "metadata": {
    "ExecuteTime": {
     "end_time": "2020-10-08T03:57:24.833358Z",
     "start_time": "2020-10-08T03:57:24.819321Z"
    },
    "slideshow": {
     "slide_type": "-"
    }
   },
   "outputs": [
    {
     "data": {
      "text/plain": [
       "(319865, 11)"
      ]
     },
     "execution_count": 15,
     "metadata": {},
     "output_type": "execute_result"
    }
   ],
   "source": [
    "data.shape # Number of rows and columns provided"
   ]
  },
  {
   "cell_type": "markdown",
   "metadata": {
    "ExecuteTime": {
     "end_time": "2020-10-07T06:40:53.248447Z",
     "start_time": "2020-10-07T06:40:53.225646Z"
    },
    "slideshow": {
     "slide_type": "slide"
    }
   },
   "source": [
    "## Driving Motivations for Analysis\n",
    "### Customer Behaviour\n",
    "* **Products that were searched and purchased most frequently**\n",
    "* **Grouping products with others that were viewed by similar users**\n",
    "* **Analyzing how users navigated website by way of site path analysis**\n",
    "* **User interaction to purchase conversion**\n",
    "\n",
    "### Product Analysis\n",
    "* **Which products brought most traffic to website**\n",
    "* **Client pricing versus competition pricing**"
   ]
  },
  {
   "cell_type": "markdown",
   "metadata": {
    "slideshow": {
     "slide_type": "slide"
    }
   },
   "source": [
    "## Analysis - Most Searched Items\n",
    "\n",
    "<img src = 'imgs/top_30_s.png'>"
   ]
  },
  {
   "cell_type": "markdown",
   "metadata": {
    "slideshow": {
     "slide_type": "subslide"
    }
   },
   "source": [
    "## Analysis - Most Purchased Items\n",
    "\n",
    "<img src = 'imgs/top_30_purch.png'>"
   ]
  },
  {
   "cell_type": "markdown",
   "metadata": {
    "slideshow": {
     "slide_type": "slide"
    }
   },
   "source": [
    "## Analysis - Website Traffic\n",
    "\n",
    "<img src = 'imgs/time_of_day.png'>"
   ]
  },
  {
   "cell_type": "markdown",
   "metadata": {
    "slideshow": {
     "slide_type": "subslide"
    }
   },
   "source": [
    "## Analysis - Website Traffic\n",
    "<img src = 'imgs/day_of_week.png'>"
   ]
  },
  {
   "cell_type": "markdown",
   "metadata": {
    "slideshow": {
     "slide_type": "subslide"
    }
   },
   "source": [
    "## Analysis - Website Traffic\n",
    "\n",
    "<img src = 'imgs/hour,day.png'>"
   ]
  },
  {
   "cell_type": "markdown",
   "metadata": {
    "slideshow": {
     "slide_type": "slide"
    }
   },
   "source": [
    "## Diving Into the Data: Identifying Areas of Improvement\n",
    "\n",
    "* Using path information and revenue details, user sessions could be further investigated for what items they searched and what items were eventually purchased\n",
    "* From this, the following was observed"
   ]
  },
  {
   "cell_type": "code",
   "execution_count": 16,
   "metadata": {
    "ExecuteTime": {
     "end_time": "2020-10-08T03:57:44.856956Z",
     "start_time": "2020-10-08T03:57:26.562092Z"
    },
    "slideshow": {
     "slide_type": "notes"
    }
   },
   "outputs": [],
   "source": [
    "data['search'] = 0\n",
    "data.loc[(data['pagePath'].str.contains('/s/') == True) | (data['previousPagePath'].str.contains('/s/') == True) | (data['landingPagePath'].str.contains('/s') == True) | (data['exitPagePath'].str.contains('/s/') == True) | (data['itemRevenue'] <= 0), 'search'] = 1\n",
    "data['purchased'] = 0\n",
    "data.loc[data['itemRevenue'] > 0, 'purchased'] = 1\n",
    "\n",
    "searches = data.loc[(data['search'] == 1) & (data['purchased'] == 0)]\n",
    "purchases = data.loc[data['purchased'] == 1]\n",
    "\n",
    "\n",
    "def basket(dataframe, param):\n",
    "  basket = dataframe.groupby(['sessionID', 'productName'])[param].sum().unstack().reset_index().fillna(0).set_index('sessionID')\n",
    "  return basket\n",
    "\n",
    "\n",
    "search_basket = basket(searches, 'search')\n",
    "purchase_basket = basket(purchases, 'purchased')\n",
    "\n",
    "purchased_items = []\n",
    "num_purchases = []\n",
    "cust_id = []\n",
    "for i in purchase_basket.index:\n",
    "  query = purchase_basket.loc[i]\n",
    "  items = query.loc[query > 0].index[:-1].tolist()\n",
    "  num_purchases.append(len(items))\n",
    "  purchased_items.append(items)\n",
    "  cust_id.append(i)\n",
    "\n",
    "purchases_df = pd.DataFrame()\n",
    "purchases_df['sessionID'] = cust_id\n",
    "purchases_df['purchases'] = purchased_items\n",
    "purchases_df['num_purchases'] = num_purchases\n",
    "\n",
    "searched_items = []\n",
    "num_searches = []\n",
    "cust_id = []\n",
    "for i in search_basket.index:\n",
    "  query = search_basket.loc[i]\n",
    "  items = query.loc[query > 0].index[:-1].tolist()\n",
    "  num_searches.append(len(items))\n",
    "  searched_items.append(items)\n",
    "  cust_id.append(i)\n",
    "\n",
    "searches_df = pd.DataFrame()\n",
    "searches_df['sessionID'] = cust_id\n",
    "searches_df['searches'] = searched_items\n",
    "searches_df['num_searches'] = num_searches\n",
    "\n",
    "cust_list = pd.DataFrame()\n",
    "cust_list['sessionID'] = data.sessionID.unique() \n",
    "\n",
    "cust_list = pd.merge(cust_list, searches_df, on='sessionID', how='left')\n",
    "cust_list = pd.merge(cust_list, purchases_df, on = 'sessionID', how='left')\n",
    "\n",
    "cust_list['searches'].fillna('-', inplace = True)\n",
    "cust_list['num_searches'].fillna(0, inplace = True)\n",
    "cust_list['num_purchases'].fillna(0, inplace = True)\n",
    "cust_list['purchases'].fillna('-', inplace = True)"
   ]
  },
  {
   "cell_type": "code",
   "execution_count": 17,
   "metadata": {
    "ExecuteTime": {
     "end_time": "2020-10-08T03:57:44.887958Z",
     "start_time": "2020-10-08T03:57:44.862958Z"
    },
    "slideshow": {
     "slide_type": "fragment"
    }
   },
   "outputs": [
    {
     "name": "stdout",
     "output_type": "stream",
     "text": [
      "Number of searches that led to no purchases: 73104.0\n",
      "Percentage of searches that do not lead to purchases: 95.87032641338702\n"
     ]
    }
   ],
   "source": [
    "no_purchase_search = cust_list.loc[(cust_list['num_purchases'] == 0) & (cust_list['num_searches'] > 0.0)]['num_searches'].sum()\n",
    "print(\"Number of searches that led to no purchases: {}\".format(no_purchase_search))\n",
    "print(\"Percentage of searches that do not lead to purchases: {}\".format(no_purchase_search / cust_list.loc[(cust_list['num_searches'] > 0)]['num_searches'].sum() * 100))"
   ]
  },
  {
   "cell_type": "markdown",
   "metadata": {
    "slideshow": {
     "slide_type": "fragment"
    }
   },
   "source": [
    "**Evidence suggests that there is room for improvement in converting searches to purchases**\n",
    "\n",
    "The rest of this presentation outlines my proposed approaches to solving this problem"
   ]
  },
  {
   "cell_type": "markdown",
   "metadata": {
    "slideshow": {
     "slide_type": "slide"
    }
   },
   "source": [
    "## Insight Into User Behaviour"
   ]
  },
  {
   "cell_type": "markdown",
   "metadata": {
    "slideshow": {
     "slide_type": "-"
    }
   },
   "source": [
    "The following table details my findings for the 20 most purchased items in the period of analysis\n",
    "\n",
    "My reasons for picking the 20 best sellers:"
   ]
  },
  {
   "cell_type": "code",
   "execution_count": 29,
   "metadata": {
    "ExecuteTime": {
     "end_time": "2020-10-07T18:43:16.839333Z",
     "start_time": "2020-10-07T18:43:16.817340Z"
    },
    "slideshow": {
     "slide_type": "fragment"
    }
   },
   "outputs": [
    {
     "name": "stdout",
     "output_type": "stream",
     "text": [
      "Top 20 best sellers account for 44.797% of revenue in period of analysis\n",
      "Top 20 revenue: 505,346.71\n"
     ]
    }
   ],
   "source": [
    "total_rev = data['itemRevenue'].sum()\n",
    "top20_rev = insights['itemRevenue'].sum()\n",
    "\n",
    "print(\"Top 20 best sellers account for {}% of revenue in period of analysis\".format(round((top20_rev / total_rev) * 100, 3)))\n",
    "print(\"Top 20 revenue: {:,}\".format(round(top20_rev, 2)))"
   ]
  },
  {
   "cell_type": "markdown",
   "metadata": {
    "slideshow": {
     "slide_type": "subslide"
    }
   },
   "source": [
    "## Insight Into User Behaviour"
   ]
  },
  {
   "cell_type": "code",
   "execution_count": 23,
   "metadata": {
    "ExecuteTime": {
     "end_time": "2020-10-08T04:07:56.391156Z",
     "start_time": "2020-10-08T04:07:56.364158Z"
    },
    "slideshow": {
     "slide_type": "-"
    }
   },
   "outputs": [
    {
     "data": {
      "text/html": [
       "<div>\n",
       "<style scoped>\n",
       "    .dataframe tbody tr th:only-of-type {\n",
       "        vertical-align: middle;\n",
       "    }\n",
       "\n",
       "    .dataframe tbody tr th {\n",
       "        vertical-align: top;\n",
       "    }\n",
       "\n",
       "    .dataframe thead th {\n",
       "        text-align: right;\n",
       "    }\n",
       "</style>\n",
       "<table border=\"1\" class=\"dataframe\">\n",
       "  <thead>\n",
       "    <tr style=\"text-align: right;\">\n",
       "      <th></th>\n",
       "      <th>productName</th>\n",
       "      <th>altName</th>\n",
       "      <th>num_purchases</th>\n",
       "      <th>productDetailViews</th>\n",
       "      <th>productListViews</th>\n",
       "      <th>productListClicks</th>\n",
       "      <th>path_search</th>\n",
       "      <th>listClicks/listViews</th>\n",
       "      <th>detailViews/listViews</th>\n",
       "      <th>purchase/listView</th>\n",
       "      <th>purchase/detailViews</th>\n",
       "      <th>purchase/listClicks</th>\n",
       "      <th>itemRevenue</th>\n",
       "      <th>avgPrice</th>\n",
       "      <th>minPrice</th>\n",
       "      <th>minSeller</th>\n",
       "      <th>maxPrice</th>\n",
       "      <th>maxSeller</th>\n",
       "      <th>clientAveragePrice</th>\n",
       "    </tr>\n",
       "  </thead>\n",
       "  <tbody>\n",
       "    <tr>\n",
       "      <th>0</th>\n",
       "      <td>ZOOMX VAPORFLY NEXT%</td>\n",
       "      <td>Laufschuhe Nike ZOOMX VAPORFLY NEXT%</td>\n",
       "      <td>221.0</td>\n",
       "      <td>1146</td>\n",
       "      <td>15738.0</td>\n",
       "      <td>2097.0</td>\n",
       "      <td>9</td>\n",
       "      <td>0.133244</td>\n",
       "      <td>0.072817</td>\n",
       "      <td>0.014042</td>\n",
       "      <td>0.192845</td>\n",
       "      <td>0.105389</td>\n",
       "      <td>86318.302944</td>\n",
       "      <td>305.9825</td>\n",
       "      <td>274.95</td>\n",
       "      <td>sportler.com</td>\n",
       "      <td>399.00</td>\n",
       "      <td>StockX</td>\n",
       "      <td>274.9</td>\n",
       "    </tr>\n",
       "    <tr>\n",
       "      <th>1</th>\n",
       "      <td>ZOOM PEGASUS TURBO 2</td>\n",
       "      <td>Laufschuhe Nike ZOOM PEGASUS TURBO 2</td>\n",
       "      <td>229.0</td>\n",
       "      <td>433</td>\n",
       "      <td>5734.0</td>\n",
       "      <td>819.0</td>\n",
       "      <td>6</td>\n",
       "      <td>0.142832</td>\n",
       "      <td>0.075514</td>\n",
       "      <td>0.039937</td>\n",
       "      <td>0.528868</td>\n",
       "      <td>0.279609</td>\n",
       "      <td>48844.202678</td>\n",
       "      <td>126.8300</td>\n",
       "      <td>84.90</td>\n",
       "      <td>Zalando</td>\n",
       "      <td>159.95</td>\n",
       "      <td>Sport Klingenmaier</td>\n",
       "      <td>145.0</td>\n",
       "    </tr>\n",
       "  </tbody>\n",
       "</table>\n",
       "</div>"
      ],
      "text/plain": [
       "            productName                               altName  num_purchases  \\\n",
       "0  ZOOMX VAPORFLY NEXT%  Laufschuhe Nike ZOOMX VAPORFLY NEXT%          221.0   \n",
       "1  ZOOM PEGASUS TURBO 2  Laufschuhe Nike ZOOM PEGASUS TURBO 2          229.0   \n",
       "\n",
       "   productDetailViews  productListViews  productListClicks  path_search  \\\n",
       "0                1146           15738.0             2097.0            9   \n",
       "1                 433            5734.0              819.0            6   \n",
       "\n",
       "   listClicks/listViews  detailViews/listViews  purchase/listView  \\\n",
       "0              0.133244               0.072817           0.014042   \n",
       "1              0.142832               0.075514           0.039937   \n",
       "\n",
       "   purchase/detailViews  purchase/listClicks   itemRevenue  avgPrice  \\\n",
       "0              0.192845             0.105389  86318.302944  305.9825   \n",
       "1              0.528868             0.279609  48844.202678  126.8300   \n",
       "\n",
       "   minPrice     minSeller  maxPrice           maxSeller  clientAveragePrice  \n",
       "0    274.95  sportler.com    399.00              StockX               274.9  \n",
       "1     84.90       Zalando    159.95  Sport Klingenmaier               145.0  "
      ]
     },
     "execution_count": 23,
     "metadata": {},
     "output_type": "execute_result"
    }
   ],
   "source": [
    "insights.head(2)"
   ]
  },
  {
   "cell_type": "markdown",
   "metadata": {
    "slideshow": {
     "slide_type": "-"
    }
   },
   "source": [
    "The ratios are explained as follows:\n",
    "* **listClicks/listViews** - How often the product was inspected when shown in a list\n",
    "* **detailViews/listViews** - How often the product details were looked at when shown in a list\n",
    "* **purchase/listView** - How often a product was purchased when viewed in a list\n",
    "* **purchase/detailViews** - How often a product was purchased when details were looked at\n",
    "* **purchase/listClicks** - How often a product was purchased when inspected in a list\n",
    "    "
   ]
  },
  {
   "cell_type": "code",
   "execution_count": 27,
   "metadata": {
    "ExecuteTime": {
     "end_time": "2020-10-08T04:09:42.259100Z",
     "start_time": "2020-10-08T04:09:42.245100Z"
    },
    "slideshow": {
     "slide_type": "notes"
    }
   },
   "outputs": [],
   "source": [
    "insights['clientPrice/avgPrice'] = insights['clientAveragePrice'] / insights['avgPrice']"
   ]
  },
  {
   "cell_type": "markdown",
   "metadata": {
    "slideshow": {
     "slide_type": "subslide"
    }
   },
   "source": [
    "## Insight Into User Behaviour\n",
    "\n",
    "The data shows that there is an average conversion rate of **58%** from Detail Views to Purchases\n",
    "\n",
    "However, on average, only **12%** of List Views are converted to Detail Views\n",
    "\n",
    "This suggests that the products recommended to users when they use the search function are not optimized to that specific user or the product that was originally searched"
   ]
  },
  {
   "cell_type": "markdown",
   "metadata": {
    "slideshow": {
     "slide_type": "subslide"
    }
   },
   "source": [
    "## Insight Into User Behaviour\n"
   ]
  },
  {
   "cell_type": "markdown",
   "metadata": {
    "slideshow": {
     "slide_type": "-"
    }
   },
   "source": [
    "This area can be improved upon by reconsidering the recommender engine currently in use\n",
    "* Currently, the search function implemented on the website recommends products that match the search in terms of **keyword relevancy**\n",
    "\n",
    "* This is reflected by the top 5 most purchased products, which have similar and intersecting names"
   ]
  },
  {
   "cell_type": "code",
   "execution_count": 28,
   "metadata": {
    "ExecuteTime": {
     "end_time": "2020-10-08T04:11:31.800793Z",
     "start_time": "2020-10-08T04:11:31.788794Z"
    },
    "slideshow": {
     "slide_type": "fragment"
    }
   },
   "outputs": [
    {
     "data": {
      "text/plain": [
       "0       ZOOMX VAPORFLY NEXT%\n",
       "1       ZOOM PEGASUS TURBO 2\n",
       "2     AIR VAPORMAX FLYKNIT 3\n",
       "3    AIR ZOOM ALPHAFLY NEXT%\n",
       "4                 ZOOM FLY 3\n",
       "Name: productName, dtype: object"
      ]
     },
     "execution_count": 28,
     "metadata": {},
     "output_type": "execute_result"
    }
   ],
   "source": [
    "insights.head().productName"
   ]
  },
  {
   "cell_type": "markdown",
   "metadata": {
    "slideshow": {
     "slide_type": "slide"
    }
   },
   "source": [
    "## Building a Better Recommender\n",
    "\n",
    "To improve on the current model, a search engine based on machine learning may yield better results\n",
    "\n",
    "* The one shown in this demo was built using the **Apriori** algorithm\n",
    "* The algorithm identifies frequent item sets within a database of transactions\n",
    "* In laymans terms, if item A is bought, how often are other items within the database also bought\n",
    "* In this application, the algorithm was used to find the relationships between the products different users interacted with across all the recorded sessions in the database\n",
    "\n",
    "When applied to the provided dataset, the algorithm uncovered over 3,000,000 association rules. The following is a sample of these results:"
   ]
  },
  {
   "cell_type": "code",
   "execution_count": 47,
   "metadata": {
    "ExecuteTime": {
     "end_time": "2020-10-07T19:10:34.117421Z",
     "start_time": "2020-10-07T19:10:34.099420Z"
    },
    "slideshow": {
     "slide_type": "-"
    }
   },
   "outputs": [
    {
     "data": {
      "text/html": [
       "<div>\n",
       "<style scoped>\n",
       "    .dataframe tbody tr th:only-of-type {\n",
       "        vertical-align: middle;\n",
       "    }\n",
       "\n",
       "    .dataframe tbody tr th {\n",
       "        vertical-align: top;\n",
       "    }\n",
       "\n",
       "    .dataframe thead th {\n",
       "        text-align: right;\n",
       "    }\n",
       "</style>\n",
       "<table border=\"1\" class=\"dataframe\">\n",
       "  <thead>\n",
       "    <tr style=\"text-align: right;\">\n",
       "      <th></th>\n",
       "      <th>antecedents</th>\n",
       "      <th>consequents</th>\n",
       "    </tr>\n",
       "  </thead>\n",
       "  <tbody>\n",
       "    <tr>\n",
       "      <th>6666</th>\n",
       "      <td>ZOOMX VAPORFLY NEXT%</td>\n",
       "      <td>ZOOM FLY 3,REACT INFINITY RUN FK</td>\n",
       "    </tr>\n",
       "    <tr>\n",
       "      <th>6662</th>\n",
       "      <td>ZOOM FLY 3,ZOOMX VAPORFLY NEXT%</td>\n",
       "      <td>REACT INFINITY RUN FK</td>\n",
       "    </tr>\n",
       "    <tr>\n",
       "      <th>6663</th>\n",
       "      <td>ZOOM FLY 3,REACT INFINITY RUN FK</td>\n",
       "      <td>ZOOMX VAPORFLY NEXT%</td>\n",
       "    </tr>\n",
       "    <tr>\n",
       "      <th>6664</th>\n",
       "      <td>ZOOMX VAPORFLY NEXT%,REACT INFINITY RUN FK</td>\n",
       "      <td>ZOOM FLY 3</td>\n",
       "    </tr>\n",
       "    <tr>\n",
       "      <th>6665</th>\n",
       "      <td>ZOOM FLY 3</td>\n",
       "      <td>ZOOMX VAPORFLY NEXT%,REACT INFINITY RUN FK</td>\n",
       "    </tr>\n",
       "  </tbody>\n",
       "</table>\n",
       "</div>"
      ],
      "text/plain": [
       "                                     antecedents  \\\n",
       "6666                        ZOOMX VAPORFLY NEXT%   \n",
       "6662             ZOOM FLY 3,ZOOMX VAPORFLY NEXT%   \n",
       "6663            ZOOM FLY 3,REACT INFINITY RUN FK   \n",
       "6664  ZOOMX VAPORFLY NEXT%,REACT INFINITY RUN FK   \n",
       "6665                                  ZOOM FLY 3   \n",
       "\n",
       "                                     consequents  \n",
       "6666            ZOOM FLY 3,REACT INFINITY RUN FK  \n",
       "6662                       REACT INFINITY RUN FK  \n",
       "6663                        ZOOMX VAPORFLY NEXT%  \n",
       "6664                                  ZOOM FLY 3  \n",
       "6665  ZOOMX VAPORFLY NEXT%,REACT INFINITY RUN FK  "
      ]
     },
     "execution_count": 47,
     "metadata": {},
     "output_type": "execute_result"
    }
   ],
   "source": [
    "rules.head()"
   ]
  },
  {
   "cell_type": "markdown",
   "metadata": {
    "slideshow": {
     "slide_type": "subslide"
    }
   },
   "source": [
    "## Building a Better Recommender\n",
    "\n",
    "Using these results, we can better identify what products are most similar to others and in turn, provide better suggestions\n",
    "\n",
    "The following are examples of how this engine works"
   ]
  },
  {
   "cell_type": "code",
   "execution_count": 29,
   "metadata": {
    "ExecuteTime": {
     "end_time": "2020-10-08T04:20:42.679402Z",
     "start_time": "2020-10-08T04:20:42.658367Z"
    },
    "slideshow": {
     "slide_type": "notes"
    }
   },
   "outputs": [],
   "source": [
    "def recommendation(item, num_suggestions = 10):\n",
    "  \n",
    "  item = item.upper()\n",
    "\n",
    "  set1 = rules.loc[rules['antecedents'].str.contains(item) == True]['antecedents']\n",
    "  set2 = rules.loc[rules['antecedents'].str.contains(item) == True]['consequents']\n",
    "\n",
    "  set1 = (i.split(',') for i in set1)\n",
    "  set1 = set(x for l in set1 for x in l)\n",
    "\n",
    "  set2 = (i.split(',') for i in set2)\n",
    "  set2 = set(x for l in set2 for x in l)\n",
    "  combined = set1.union(set2)\n",
    "\n",
    "\n",
    "  for i, val in enumerate(itertools.islice(combined, num_suggestions)):\n",
    "    print(val)\n",
    "  \n",
    "  return"
   ]
  },
  {
   "cell_type": "code",
   "execution_count": 30,
   "metadata": {
    "ExecuteTime": {
     "end_time": "2020-10-08T04:20:55.355728Z",
     "start_time": "2020-10-08T04:20:44.416713Z"
    },
    "slideshow": {
     "slide_type": "fragment"
    }
   },
   "outputs": [
    {
     "name": "stdout",
     "output_type": "stream",
     "text": [
      "Cloudboom\n",
      "WMNS ZM PEG 36 TRAIL GTX\n",
      "AIR ZOOM PEGASUS 37\n",
      "REACT INFINITY RUN FK\n",
      "W PEGASUS TRAIL 2\n"
     ]
    }
   ],
   "source": [
    "recommendation('zoom', num_suggestions = 5)"
   ]
  },
  {
   "cell_type": "code",
   "execution_count": 31,
   "metadata": {
    "ExecuteTime": {
     "end_time": "2020-10-08T04:20:58.152638Z",
     "start_time": "2020-10-08T04:20:55.360734Z"
    },
    "slideshow": {
     "slide_type": "fragment"
    }
   },
   "outputs": [
    {
     "name": "stdout",
     "output_type": "stream",
     "text": [
      "SL20 W\n",
      "SL20\n",
      "ULTRABOOST PB W\n",
      "UA HOVR Machina\n",
      "GEL-DS TRAINER 25 W\n"
     ]
    }
   ],
   "source": [
    "recommendation('ultraboost', num_suggestions = 5)"
   ]
  },
  {
   "cell_type": "markdown",
   "metadata": {
    "slideshow": {
     "slide_type": "slide"
    }
   },
   "source": [
    "## Understanding the Competition\n",
    "\n",
    "* Competition pricing was also analyzed as part of this project\n",
    "* Prices for each of the 20 best sellers was scraped from Google searches to find how client competitors priced each of the products"
   ]
  },
  {
   "cell_type": "code",
   "execution_count": 32,
   "metadata": {
    "ExecuteTime": {
     "end_time": "2020-10-08T04:25:00.858898Z",
     "start_time": "2020-10-08T04:25:00.819853Z"
    },
    "slideshow": {
     "slide_type": "-"
    }
   },
   "outputs": [
    {
     "data": {
      "text/html": [
       "<div>\n",
       "<style scoped>\n",
       "    .dataframe tbody tr th:only-of-type {\n",
       "        vertical-align: middle;\n",
       "    }\n",
       "\n",
       "    .dataframe tbody tr th {\n",
       "        vertical-align: top;\n",
       "    }\n",
       "\n",
       "    .dataframe thead th {\n",
       "        text-align: right;\n",
       "    }\n",
       "</style>\n",
       "<table border=\"1\" class=\"dataframe\">\n",
       "  <thead>\n",
       "    <tr style=\"text-align: right;\">\n",
       "      <th></th>\n",
       "      <th>productName</th>\n",
       "      <th>altName</th>\n",
       "      <th>num_purchases</th>\n",
       "      <th>productDetailViews</th>\n",
       "      <th>productListViews</th>\n",
       "      <th>productListClicks</th>\n",
       "      <th>path_search</th>\n",
       "      <th>listClicks/listViews</th>\n",
       "      <th>detailViews/listViews</th>\n",
       "      <th>purchase/listView</th>\n",
       "      <th>purchase/detailViews</th>\n",
       "      <th>purchase/listClicks</th>\n",
       "      <th>itemRevenue</th>\n",
       "      <th>avgPrice</th>\n",
       "      <th>minPrice</th>\n",
       "      <th>minSeller</th>\n",
       "      <th>maxPrice</th>\n",
       "      <th>maxSeller</th>\n",
       "      <th>clientAveragePrice</th>\n",
       "      <th>clientPrice/avgPrice</th>\n",
       "    </tr>\n",
       "  </thead>\n",
       "  <tbody>\n",
       "    <tr>\n",
       "      <th>9</th>\n",
       "      <td>ZOOM SUPERFLY ELITE</td>\n",
       "      <td>Spikes Nike ZOOM SUPERFLY ELITE</td>\n",
       "      <td>84.0</td>\n",
       "      <td>153</td>\n",
       "      <td>8488.0</td>\n",
       "      <td>408.0</td>\n",
       "      <td>4</td>\n",
       "      <td>0.048068</td>\n",
       "      <td>0.018025</td>\n",
       "      <td>0.009896</td>\n",
       "      <td>0.549020</td>\n",
       "      <td>0.205882</td>\n",
       "      <td>15532.615271</td>\n",
       "      <td>125.128333</td>\n",
       "      <td>86.99</td>\n",
       "      <td>shop4runners</td>\n",
       "      <td>57.50</td>\n",
       "      <td>Top4Running</td>\n",
       "      <td>113.9</td>\n",
       "      <td>0.910265</td>\n",
       "    </tr>\n",
       "    <tr>\n",
       "      <th>4</th>\n",
       "      <td>ZOOM FLY 3</td>\n",
       "      <td>Laufschuhe Nike ZOOM FLY 3</td>\n",
       "      <td>239.0</td>\n",
       "      <td>425</td>\n",
       "      <td>22211.0</td>\n",
       "      <td>1078.0</td>\n",
       "      <td>8</td>\n",
       "      <td>0.048535</td>\n",
       "      <td>0.019135</td>\n",
       "      <td>0.010760</td>\n",
       "      <td>0.562353</td>\n",
       "      <td>0.221707</td>\n",
       "      <td>47208.064961</td>\n",
       "      <td>135.042500</td>\n",
       "      <td>101.00</td>\n",
       "      <td>StockX</td>\n",
       "      <td>159.90</td>\n",
       "      <td>Top4Running</td>\n",
       "      <td>159.9</td>\n",
       "      <td>1.184072</td>\n",
       "    </tr>\n",
       "    <tr>\n",
       "      <th>5</th>\n",
       "      <td>REACT INFINITY RUN FK</td>\n",
       "      <td>Laufschuhe Nike REACT INFINITY RUN FK</td>\n",
       "      <td>221.0</td>\n",
       "      <td>340</td>\n",
       "      <td>13338.0</td>\n",
       "      <td>862.0</td>\n",
       "      <td>10</td>\n",
       "      <td>0.064627</td>\n",
       "      <td>0.025491</td>\n",
       "      <td>0.016569</td>\n",
       "      <td>0.650000</td>\n",
       "      <td>0.256381</td>\n",
       "      <td>41456.038903</td>\n",
       "      <td>116.140000</td>\n",
       "      <td>91.90</td>\n",
       "      <td>Jogging-Point.de</td>\n",
       "      <td>154.95</td>\n",
       "      <td>Zalando</td>\n",
       "      <td>121.5</td>\n",
       "      <td>1.046151</td>\n",
       "    </tr>\n",
       "    <tr>\n",
       "      <th>6</th>\n",
       "      <td>ZOOM VAPORFLY 4% FLYKNIT</td>\n",
       "      <td>Laufschuhe Nike ZOOM VAPORFLY 4% FLYKNIT</td>\n",
       "      <td>91.0</td>\n",
       "      <td>520</td>\n",
       "      <td>12691.0</td>\n",
       "      <td>2563.0</td>\n",
       "      <td>5</td>\n",
       "      <td>0.201954</td>\n",
       "      <td>0.040974</td>\n",
       "      <td>0.007170</td>\n",
       "      <td>0.175000</td>\n",
       "      <td>0.035505</td>\n",
       "      <td>26938.417729</td>\n",
       "      <td>207.918000</td>\n",
       "      <td>70.00</td>\n",
       "      <td>eBay.de</td>\n",
       "      <td>159.99</td>\n",
       "      <td>Zalando</td>\n",
       "      <td>189.9</td>\n",
       "      <td>0.913341</td>\n",
       "    </tr>\n",
       "    <tr>\n",
       "      <th>0</th>\n",
       "      <td>ZOOMX VAPORFLY NEXT%</td>\n",
       "      <td>Laufschuhe Nike ZOOMX VAPORFLY NEXT%</td>\n",
       "      <td>221.0</td>\n",
       "      <td>1146</td>\n",
       "      <td>15738.0</td>\n",
       "      <td>2097.0</td>\n",
       "      <td>9</td>\n",
       "      <td>0.133244</td>\n",
       "      <td>0.072817</td>\n",
       "      <td>0.014042</td>\n",
       "      <td>0.192845</td>\n",
       "      <td>0.105389</td>\n",
       "      <td>86318.302944</td>\n",
       "      <td>305.982500</td>\n",
       "      <td>274.95</td>\n",
       "      <td>sportler.com</td>\n",
       "      <td>399.00</td>\n",
       "      <td>StockX</td>\n",
       "      <td>274.9</td>\n",
       "      <td>0.898417</td>\n",
       "    </tr>\n",
       "  </tbody>\n",
       "</table>\n",
       "</div>"
      ],
      "text/plain": [
       "                productName                                   altName  \\\n",
       "9       ZOOM SUPERFLY ELITE           Spikes Nike ZOOM SUPERFLY ELITE   \n",
       "4                ZOOM FLY 3                Laufschuhe Nike ZOOM FLY 3   \n",
       "5     REACT INFINITY RUN FK     Laufschuhe Nike REACT INFINITY RUN FK   \n",
       "6  ZOOM VAPORFLY 4% FLYKNIT  Laufschuhe Nike ZOOM VAPORFLY 4% FLYKNIT   \n",
       "0      ZOOMX VAPORFLY NEXT%      Laufschuhe Nike ZOOMX VAPORFLY NEXT%   \n",
       "\n",
       "   num_purchases  productDetailViews  productListViews  productListClicks  \\\n",
       "9           84.0                 153            8488.0              408.0   \n",
       "4          239.0                 425           22211.0             1078.0   \n",
       "5          221.0                 340           13338.0              862.0   \n",
       "6           91.0                 520           12691.0             2563.0   \n",
       "0          221.0                1146           15738.0             2097.0   \n",
       "\n",
       "   path_search  listClicks/listViews  detailViews/listViews  \\\n",
       "9            4              0.048068               0.018025   \n",
       "4            8              0.048535               0.019135   \n",
       "5           10              0.064627               0.025491   \n",
       "6            5              0.201954               0.040974   \n",
       "0            9              0.133244               0.072817   \n",
       "\n",
       "   purchase/listView  purchase/detailViews  purchase/listClicks   itemRevenue  \\\n",
       "9           0.009896              0.549020             0.205882  15532.615271   \n",
       "4           0.010760              0.562353             0.221707  47208.064961   \n",
       "5           0.016569              0.650000             0.256381  41456.038903   \n",
       "6           0.007170              0.175000             0.035505  26938.417729   \n",
       "0           0.014042              0.192845             0.105389  86318.302944   \n",
       "\n",
       "     avgPrice  minPrice         minSeller  maxPrice    maxSeller  \\\n",
       "9  125.128333     86.99      shop4runners     57.50  Top4Running   \n",
       "4  135.042500    101.00            StockX    159.90  Top4Running   \n",
       "5  116.140000     91.90  Jogging-Point.de    154.95      Zalando   \n",
       "6  207.918000     70.00           eBay.de    159.99      Zalando   \n",
       "0  305.982500    274.95      sportler.com    399.00       StockX   \n",
       "\n",
       "   clientAveragePrice  clientPrice/avgPrice  \n",
       "9               113.9              0.910265  \n",
       "4               159.9              1.184072  \n",
       "5               121.5              1.046151  \n",
       "6               189.9              0.913341  \n",
       "0               274.9              0.898417  "
      ]
     },
     "execution_count": 32,
     "metadata": {},
     "output_type": "execute_result"
    }
   ],
   "source": [
    "insights[insights['detailViews/listViews']>0].sort_values('detailViews/listViews').head()"
   ]
  },
  {
   "cell_type": "markdown",
   "metadata": {
    "slideshow": {
     "slide_type": "subslide"
    }
   },
   "source": [
    "## Understanding the Competition\n",
    "\n",
    "\n",
    "* The data shows that the products with the lowest purchase conversions were the ones that were sold at higher than market average prices\n",
    "\n",
    "\n",
    "* Due to increasing popularity of resale markets like StockX, average market prices for shoes are more volatile than ever\n",
    "\n",
    "\n",
    "* Those with high demand sell for a much higher valuation than retail, and the opposite holds true\n",
    "\n",
    "\n",
    "* This volatility has not yet been addressed by large scale retailers, although the data suggests its effects are being felt\n",
    "\n",
    "\n",
    "* While a slightly more difficult and bureucratic solution to implement, applying an algorithm that dynamically adjusted website prices as average price on the market changed could improve search to purchase conversion"
   ]
  },
  {
   "cell_type": "markdown",
   "metadata": {
    "slideshow": {
     "slide_type": "slide"
    }
   },
   "source": [
    "## Closing Comments\n",
    "\n",
    "* An improvement on this project would be to make it more dynamic\n",
    "    * Online scraping of competition data, updating recommender engine with live searches\n",
    "* Existing recommender would need to be sped up before it is deployed\n",
    "    * Currently processing at 3 seconds per request, far too slow for full scale deployment (28,800 requests per day)"
   ]
  }
 ],
 "metadata": {
  "celltoolbar": "Slideshow",
  "kernelspec": {
   "display_name": "Python 3",
   "language": "python",
   "name": "python3"
  },
  "language_info": {
   "codemirror_mode": {
    "name": "ipython",
    "version": 3
   },
   "file_extension": ".py",
   "mimetype": "text/x-python",
   "name": "python",
   "nbconvert_exporter": "python",
   "pygments_lexer": "ipython3",
   "version": "3.7.6"
  }
 },
 "nbformat": 4,
 "nbformat_minor": 4
}
